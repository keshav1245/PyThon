{
 "cells": [
  {
   "cell_type": "markdown",
   "metadata": {},
   "source": [
    "\n",
    "    class NameOfClass():\n",
    "        def __init__(self,param1,param2): #Allows to create instance                                             #of actualobj,is constructor\n",
    "            self.param1 = param1\n",
    "            self.param2 = param2\n",
    "            \n",
    "        def some_method(self):\n",
    "            #Some Operation\n",
    "            print(self.param1)"
   ]
  },
  {
   "cell_type": "code",
   "execution_count": 2,
   "metadata": {},
   "outputs": [],
   "source": [
    "sample_list = ['a',2,3,'xyz']"
   ]
  },
  {
   "cell_type": "code",
   "execution_count": 5,
   "metadata": {},
   "outputs": [
    {
     "data": {
      "text/plain": [
       "1"
      ]
     },
     "execution_count": 5,
     "metadata": {},
     "output_type": "execute_result"
    }
   ],
   "source": [
    "sample_list.count('a')"
   ]
  },
  {
   "cell_type": "code",
   "execution_count": 7,
   "metadata": {},
   "outputs": [],
   "source": [
    "class NameOfSampleClass():\n",
    "    pass"
   ]
  },
  {
   "cell_type": "code",
   "execution_count": 8,
   "metadata": {},
   "outputs": [],
   "source": [
    "instanceOfSampleClass = NameOfSampleClass()"
   ]
  },
  {
   "cell_type": "code",
   "execution_count": 9,
   "metadata": {},
   "outputs": [
    {
     "data": {
      "text/plain": [
       "__main__.NameOfSampleClass"
      ]
     },
     "execution_count": 9,
     "metadata": {},
     "output_type": "execute_result"
    }
   ],
   "source": [
    "type(instanceOfSampleClass)"
   ]
  },
  {
   "cell_type": "code",
   "execution_count": 59,
   "metadata": {},
   "outputs": [],
   "source": [
    "class Car():\n",
    "    '''\n",
    "        You can Write A Docstring also for the class\n",
    "    '''\n",
    "    \n",
    "    #Class Object Attribute\n",
    "    noOfTyres = 4\n",
    "    \n",
    "    def __init__(self,carColor,carBrand):\n",
    "        \n",
    "        self.color = carColor\n",
    "        self.brand = carBrand\n",
    "        \n",
    "        #We take in argument and assign it to self.attribute_name\n",
    "        \n",
    "    #Methods/Operations\n",
    "    \n",
    "    def accelarate(self,numberPlate):\n",
    "        print(\"Accelarating the Car !\")\n",
    "        print(f\"Car is of {self.color} Color and make is of {self.brand}\")\n",
    "        print(\"Car Lincense plate says {}\".format(numberPlate))\n",
    "        "
   ]
  },
  {
   "cell_type": "code",
   "execution_count": 60,
   "metadata": {},
   "outputs": [],
   "source": [
    "sampleCar = Car(\"Glittering Silver\",\"Nexa\")"
   ]
  },
  {
   "cell_type": "code",
   "execution_count": 61,
   "metadata": {},
   "outputs": [
    {
     "data": {
      "text/plain": [
       "'Nexa'"
      ]
     },
     "execution_count": 61,
     "metadata": {},
     "output_type": "execute_result"
    }
   ],
   "source": [
    "sampleCar.brand"
   ]
  },
  {
   "cell_type": "code",
   "execution_count": 62,
   "metadata": {},
   "outputs": [
    {
     "data": {
      "text/plain": [
       "'Glittering Silver'"
      ]
     },
     "execution_count": 62,
     "metadata": {},
     "output_type": "execute_result"
    }
   ],
   "source": [
    "sampleCar.color"
   ]
  },
  {
   "cell_type": "code",
   "execution_count": 63,
   "metadata": {},
   "outputs": [
    {
     "data": {
      "text/plain": [
       "4"
      ]
     },
     "execution_count": 63,
     "metadata": {},
     "output_type": "execute_result"
    }
   ],
   "source": [
    "sampleCar.noOfTyres"
   ]
  },
  {
   "cell_type": "code",
   "execution_count": 64,
   "metadata": {},
   "outputs": [
    {
     "name": "stdout",
     "output_type": "stream",
     "text": [
      "Accelarating the Car !\n",
      "Car is of Glittering Silver Color and make is of Nexa\n",
      "Car Lincense plate says CH 01 AC 1234\n"
     ]
    }
   ],
   "source": [
    " sampleCar.accelarate(\"CH 01 AC 1234\")"
   ]
  },
  {
   "cell_type": "code",
   "execution_count": null,
   "metadata": {},
   "outputs": [],
   "source": []
  },
  {
   "cell_type": "code",
   "execution_count": 72,
   "metadata": {},
   "outputs": [],
   "source": [
    "class Circle():\n",
    "    \n",
    "    pi = 3.14\n",
    "    \n",
    "    def __init__(self,radius = 1):\n",
    "        self.radius = radius\n",
    "        self.area = self.pi*radius*radius\n",
    "        \n",
    "    def circumference(self):\n",
    "        return 2 * self.pi * self.radius"
   ]
  },
  {
   "cell_type": "code",
   "execution_count": 73,
   "metadata": {},
   "outputs": [],
   "source": [
    "cir1 = Circle()"
   ]
  },
  {
   "cell_type": "code",
   "execution_count": 74,
   "metadata": {},
   "outputs": [
    {
     "data": {
      "text/plain": [
       "6.28"
      ]
     },
     "execution_count": 74,
     "metadata": {},
     "output_type": "execute_result"
    }
   ],
   "source": [
    "cir1.circumference()"
   ]
  },
  {
   "cell_type": "code",
   "execution_count": 75,
   "metadata": {},
   "outputs": [],
   "source": [
    "cir2 = Circle(3)"
   ]
  },
  {
   "cell_type": "code",
   "execution_count": 76,
   "metadata": {},
   "outputs": [
    {
     "data": {
      "text/plain": [
       "18.84"
      ]
     },
     "execution_count": 76,
     "metadata": {},
     "output_type": "execute_result"
    }
   ],
   "source": [
    "cir2.circumference()"
   ]
  },
  {
   "cell_type": "code",
   "execution_count": 77,
   "metadata": {},
   "outputs": [
    {
     "data": {
      "text/plain": [
       "1"
      ]
     },
     "execution_count": 77,
     "metadata": {},
     "output_type": "execute_result"
    }
   ],
   "source": [
    "cir1.radius"
   ]
  },
  {
   "cell_type": "code",
   "execution_count": 78,
   "metadata": {},
   "outputs": [
    {
     "data": {
      "text/plain": [
       "3"
      ]
     },
     "execution_count": 78,
     "metadata": {},
     "output_type": "execute_result"
    }
   ],
   "source": [
    "cir2.radius"
   ]
  },
  {
   "cell_type": "code",
   "execution_count": 79,
   "metadata": {},
   "outputs": [
    {
     "data": {
      "text/plain": [
       "3.14"
      ]
     },
     "execution_count": 79,
     "metadata": {},
     "output_type": "execute_result"
    }
   ],
   "source": [
    "cir1.area"
   ]
  },
  {
   "cell_type": "code",
   "execution_count": 80,
   "metadata": {},
   "outputs": [
    {
     "data": {
      "text/plain": [
       "28.259999999999998"
      ]
     },
     "execution_count": 80,
     "metadata": {},
     "output_type": "execute_result"
    }
   ],
   "source": [
    "cir2.area"
   ]
  },
  {
   "cell_type": "code",
   "execution_count": 81,
   "metadata": {},
   "outputs": [],
   "source": [
    "#\n",
    "#INHERITANCE\n",
    "#"
   ]
  },
  {
   "cell_type": "code",
   "execution_count": 85,
   "metadata": {},
   "outputs": [],
   "source": [
    "class AutoMobiles():\n",
    "    \n",
    "    def __init__(self):\n",
    "        print(\"Base Class Created !\")\n",
    "        \n",
    "    def desc(self):\n",
    "        print(\"The AutoMobiles Industry\")\n",
    "        \n",
    "    def sampleFunc(self):\n",
    "        print(\"Some function in the AutoMobiles Class\")"
   ]
  },
  {
   "cell_type": "code",
   "execution_count": 86,
   "metadata": {},
   "outputs": [
    {
     "name": "stdout",
     "output_type": "stream",
     "text": [
      "Base Class Created !\n"
     ]
    }
   ],
   "source": [
    "car = AutoMobiles()"
   ]
  },
  {
   "cell_type": "code",
   "execution_count": 100,
   "metadata": {},
   "outputs": [],
   "source": [
    "class SomeAutomobile(AutoMobiles):\n",
    "    def __init__(self):\n",
    "        AutoMobiles.__init__(self)\n",
    "        print(\"Inherited Class\")\n",
    "        \n",
    "    def sampleFunc(self):\n",
    "        print(\"Function Overiden in Inherited Class !\")\n",
    "        \n",
    "    def someNewMethod(self):\n",
    "        print(\"This is an addon method !\")"
   ]
  },
  {
   "cell_type": "code",
   "execution_count": 101,
   "metadata": {},
   "outputs": [
    {
     "name": "stdout",
     "output_type": "stream",
     "text": [
      "Base Class Created !\n",
      "Inherited Class\n"
     ]
    }
   ],
   "source": [
    "sAuto = SomeAutomobile()"
   ]
  },
  {
   "cell_type": "code",
   "execution_count": 102,
   "metadata": {},
   "outputs": [
    {
     "name": "stdout",
     "output_type": "stream",
     "text": [
      "Function Overiden in Inherited Class !\n"
     ]
    }
   ],
   "source": [
    "sAuto.sampleFunc()"
   ]
  },
  {
   "cell_type": "code",
   "execution_count": 103,
   "metadata": {},
   "outputs": [
    {
     "name": "stdout",
     "output_type": "stream",
     "text": [
      "The AutoMobiles Industry\n"
     ]
    }
   ],
   "source": [
    "sAuto.desc()"
   ]
  },
  {
   "cell_type": "code",
   "execution_count": 104,
   "metadata": {},
   "outputs": [
    {
     "name": "stdout",
     "output_type": "stream",
     "text": [
      "This is an addon method !\n"
     ]
    }
   ],
   "source": [
    "sAuto.someNewMethod()"
   ]
  },
  {
   "cell_type": "code",
   "execution_count": null,
   "metadata": {},
   "outputs": [],
   "source": [
    " "
   ]
  },
  {
   "cell_type": "code",
   "execution_count": null,
   "metadata": {},
   "outputs": [],
   "source": [
    "#\n",
    "#POLYMORPHISM\n",
    "#"
   ]
  },
  {
   "cell_type": "code",
   "execution_count": 105,
   "metadata": {},
   "outputs": [],
   "source": [
    "#diff objects classes can share the same name \n",
    "\n",
    "class Dog():\n",
    "    def __init__(self,name):\n",
    "        self.name = name\n",
    "        \n",
    "    def speak(self):\n",
    "        return self.name + \"WOOF !\"\n",
    "    \n",
    "class Cat():\n",
    "    def __init__(self,name):\n",
    "        self.name = name\n",
    "        \n",
    "    def speak(self):\n",
    "        return self.name + \"Meows !\""
   ]
  },
  {
   "cell_type": "code",
   "execution_count": 106,
   "metadata": {},
   "outputs": [],
   "source": [
    "obj1 = Dog(\"niko\")\n",
    "obj2 = Cat(\"felix\")"
   ]
  },
  {
   "cell_type": "code",
   "execution_count": 107,
   "metadata": {},
   "outputs": [
    {
     "name": "stdout",
     "output_type": "stream",
     "text": [
      "nikoWOOF !\n",
      "felixMeows !\n"
     ]
    }
   ],
   "source": [
    "print(obj1.speak())\n",
    "print(obj2.speak())"
   ]
  },
  {
   "cell_type": "code",
   "execution_count": 109,
   "metadata": {},
   "outputs": [
    {
     "name": "stdout",
     "output_type": "stream",
     "text": [
      "<class '__main__.Dog'>\n",
      "<class 'str'>\n",
      "<class '__main__.Cat'>\n",
      "<class 'str'>\n"
     ]
    }
   ],
   "source": [
    "for pet in [obj1,obj2]:\n",
    "    print(type(pet))\n",
    "    print(type(pet.speak()))"
   ]
  },
  {
   "cell_type": "code",
   "execution_count": null,
   "metadata": {},
   "outputs": [],
   "source": []
  },
  {
   "cell_type": "code",
   "execution_count": 110,
   "metadata": {},
   "outputs": [],
   "source": [
    "def pet_speak(pet):\n",
    "    print(pet.speak())"
   ]
  },
  {
   "cell_type": "code",
   "execution_count": 111,
   "metadata": {},
   "outputs": [
    {
     "name": "stdout",
     "output_type": "stream",
     "text": [
      "nikoWOOF !\n",
      "felixMeows !\n"
     ]
    }
   ],
   "source": [
    "pet_speak(obj1)\n",
    "pet_speak(obj2)"
   ]
  },
  {
   "cell_type": "code",
   "execution_count": 113,
   "metadata": {},
   "outputs": [],
   "source": [
    "#\n",
    "#AbSTRACT CLASSES - only to be used as a base class, and not to be instantiated !\n",
    "#"
   ]
  },
  {
   "cell_type": "code",
   "execution_count": 115,
   "metadata": {},
   "outputs": [],
   "source": [
    "class Animal():\n",
    "    \n",
    "    def __init__(self,name):\n",
    "        self.name = name \n",
    "    \n",
    "    def speak(self):\n",
    "        raise NotImplementedError(\"Subclass Must Implement this Abstract Method\")"
   ]
  },
  {
   "cell_type": "code",
   "execution_count": 119,
   "metadata": {},
   "outputs": [],
   "source": [
    "\n",
    "class Dog(Animal):\n",
    "    def speak(self):\n",
    "        return self.name + \"Woof !\"\n",
    "class Cat(Animal):\n",
    "    def speak(self):\n",
    "        return self.name + \"Meows !\""
   ]
  },
  {
   "cell_type": "code",
   "execution_count": null,
   "metadata": {},
   "outputs": [],
   "source": []
  },
  {
   "cell_type": "code",
   "execution_count": 120,
   "metadata": {},
   "outputs": [
    {
     "name": "stdout",
     "output_type": "stream",
     "text": [
      "fidoWoof !\n",
      "sisiMeows !\n"
     ]
    }
   ],
   "source": [
    "fido = Dog(\"fido\")\n",
    "sisi = Cat(\"sisi\")\n",
    "\n",
    "print(fido.speak())\n",
    "print(sisi.speak())"
   ]
  },
  {
   "cell_type": "code",
   "execution_count": null,
   "metadata": {},
   "outputs": [],
   "source": []
  }
 ],
 "metadata": {
  "kernelspec": {
   "display_name": "Python 3",
   "language": "python",
   "name": "python3"
  },
  "language_info": {
   "codemirror_mode": {
    "name": "ipython",
    "version": 3
   },
   "file_extension": ".py",
   "mimetype": "text/x-python",
   "name": "python",
   "nbconvert_exporter": "python",
   "pygments_lexer": "ipython3",
   "version": "3.7.3"
  }
 },
 "nbformat": 4,
 "nbformat_minor": 2
}
