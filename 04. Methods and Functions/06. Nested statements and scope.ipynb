{
 "cells": [
  {
   "cell_type": "code",
   "execution_count": 1,
   "metadata": {},
   "outputs": [],
   "source": [
    "# Scope determines the visibility of the variable names in \n",
    "#other blocks of the code"
   ]
  },
  {
   "cell_type": "code",
   "execution_count": 2,
   "metadata": {},
   "outputs": [],
   "source": [
    "x = 25\n",
    "\n",
    "def printfunc():\n",
    "    x = 50 \n",
    "    return x"
   ]
  },
  {
   "cell_type": "code",
   "execution_count": 3,
   "metadata": {},
   "outputs": [
    {
     "name": "stdout",
     "output_type": "stream",
     "text": [
      "25\n"
     ]
    }
   ],
   "source": [
    "print(x)"
   ]
  },
  {
   "cell_type": "code",
   "execution_count": 4,
   "metadata": {},
   "outputs": [
    {
     "name": "stdout",
     "output_type": "stream",
     "text": [
      "50\n"
     ]
    }
   ],
   "source": [
    "print(printfunc())"
   ]
  },
  {
   "cell_type": "code",
   "execution_count": 6,
   "metadata": {},
   "outputs": [],
   "source": [
    "# LEGB Rule\n",
    "#\n",
    "# Local - checks in local namespace within func (def or lambda)\n",
    "# Enclosing Function Locals\n",
    "# Global\n",
    "# Built-In"
   ]
  },
  {
   "cell_type": "code",
   "execution_count": null,
   "metadata": {},
   "outputs": [],
   "source": []
  },
  {
   "cell_type": "code",
   "execution_count": 8,
   "metadata": {},
   "outputs": [
    {
     "data": {
      "text/plain": [
       "<function __main__.<lambda>(num)>"
      ]
     },
     "execution_count": 8,
     "metadata": {},
     "output_type": "execute_result"
    }
   ],
   "source": [
    "#LOCAL \n",
    "\n",
    "lambda num : num ** 2 # num is local to lambda func"
   ]
  },
  {
   "cell_type": "code",
   "execution_count": 15,
   "metadata": {},
   "outputs": [
    {
     "name": "stdout",
     "output_type": "stream",
     "text": [
      "Hello Hello\n",
      "Hello This is a global string\n"
     ]
    }
   ],
   "source": [
    "#Enclosing Function Locals\n",
    "\n",
    "name = \"This is a global string\" # GLOBAL\n",
    "\n",
    "def my_func():\n",
    "    name = \"Zukayu\" # ENCLOSING\n",
    "    def other_func():\n",
    "        \n",
    "        name = \"Hello\" # LOCAL\n",
    "        print(\"Hello \"+name)\n",
    "    \n",
    "    other_func()\n",
    "    \n",
    "\n",
    "my_func()\n",
    "\n",
    "name = \"This is a global string\"\n",
    "\n",
    "def my_func():\n",
    "    #name = \"Zukayu\"\n",
    "    def other_func():\n",
    "        print(\"Hello \"+name)\n",
    "    \n",
    "    other_func()\n",
    "    \n",
    "\n",
    "my_func()"
   ]
  },
  {
   "cell_type": "code",
   "execution_count": null,
   "metadata": {},
   "outputs": [],
   "source": []
  },
  {
   "cell_type": "code",
   "execution_count": 23,
   "metadata": {},
   "outputs": [],
   "source": [
    "x = 50 \n",
    "\n",
    "def funct():\n",
    "    global x # Anything that happens inside the local scope will affect\n",
    "             # Global x \n",
    "    print(f\"This is X : {x}\")\n",
    "    x *= 3\n",
    "    print(f\"This is changed X : {x}\")\n",
    "    "
   ]
  },
  {
   "cell_type": "code",
   "execution_count": 24,
   "metadata": {},
   "outputs": [
    {
     "name": "stdout",
     "output_type": "stream",
     "text": [
      "This is X : 50\n",
      "This is changed X : 150\n"
     ]
    }
   ],
   "source": [
    "funct()"
   ]
  },
  {
   "cell_type": "code",
   "execution_count": 25,
   "metadata": {},
   "outputs": [
    {
     "name": "stdout",
     "output_type": "stream",
     "text": [
      "This is X : 150\n",
      "This is changed X : 450\n"
     ]
    }
   ],
   "source": [
    "funct()"
   ]
  },
  {
   "cell_type": "code",
   "execution_count": 30,
   "metadata": {},
   "outputs": [],
   "source": [
    "x = 50 \n",
    "\n",
    "def funct(x):\n",
    "    \n",
    "    print(f\"This is X : {x}\")\n",
    "    x *= 3\n",
    "    print(f\"This is changed X : {x}\")\n",
    "    return x\n"
   ]
  },
  {
   "cell_type": "code",
   "execution_count": 31,
   "metadata": {},
   "outputs": [
    {
     "name": "stdout",
     "output_type": "stream",
     "text": [
      "50\n",
      "This is X : 50\n",
      "This is changed X : 150\n",
      "150\n"
     ]
    }
   ],
   "source": [
    "print(x)\n",
    "x = funct(x)\n",
    "print(x)"
   ]
  },
  {
   "cell_type": "code",
   "execution_count": null,
   "metadata": {},
   "outputs": [],
   "source": []
  }
 ],
 "metadata": {
  "kernelspec": {
   "display_name": "Python 3",
   "language": "python",
   "name": "python3"
  },
  "language_info": {
   "codemirror_mode": {
    "name": "ipython",
    "version": 3
   },
   "file_extension": ".py",
   "mimetype": "text/x-python",
   "name": "python",
   "nbconvert_exporter": "python",
   "pygments_lexer": "ipython3",
   "version": "3.7.3"
  }
 },
 "nbformat": 4,
 "nbformat_minor": 2
}
