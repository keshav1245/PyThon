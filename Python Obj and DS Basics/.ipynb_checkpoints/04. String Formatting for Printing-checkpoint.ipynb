{
 "cells": [
  {
   "cell_type": "code",
   "execution_count": 1,
   "metadata": {},
   "outputs": [
    {
     "name": "stdout",
     "output_type": "stream",
     "text": [
      "Hello Zukayu\n"
     ]
    }
   ],
   "source": [
    "name = \"Zukayu\"\n",
    "print(\"Hello \"+name)"
   ]
  },
  {
   "cell_type": "markdown",
   "metadata": {},
   "source": [
    "Multiple ways to format string apart from concatination\n",
    "it is called String Interpollation or stick a variable into a string\n",
    "\n",
    "There are three ways to perform string formatting.\n",
    "\n",
    "1. The oldest method involves placeholders using the modulo % character.\n",
    "2. An improved technique uses the .format() string method.\n",
    "3. The newest method, introduced with Python 3.6, uses formatted string literals, called f-strings."
   ]
  },
  {
   "cell_type": "code",
   "execution_count": 2,
   "metadata": {},
   "outputs": [
    {
     "name": "stdout",
     "output_type": "stream",
     "text": [
      "My Name is Keshav Tangri\n"
     ]
    }
   ],
   "source": [
    "print('My Name is {}'.format('Keshav Tangri'))"
   ]
  },
  {
   "cell_type": "markdown",
   "metadata": {},
   "source": [
    "Advantages of format\n",
    "\n",
    "1. String can be inserted through indexing also\n",
    "2. String can be assigned a Keyword for Identification"
   ]
  },
  {
   "cell_type": "code",
   "execution_count": 3,
   "metadata": {},
   "outputs": [
    {
     "name": "stdout",
     "output_type": "stream",
     "text": [
      "The fox brown quick\n"
     ]
    }
   ],
   "source": [
    "print('The {} {} {}'.format('fox','brown','quick'))"
   ]
  },
  {
   "cell_type": "code",
   "execution_count": 4,
   "metadata": {},
   "outputs": [
    {
     "name": "stdout",
     "output_type": "stream",
     "text": [
      "The quick brown fox\n"
     ]
    }
   ],
   "source": [
    "print('The {2} {1} {0}'.format('fox','brown','quick'))\n",
    "#INDEXING THE FORMAT PARAMETERS"
   ]
  },
  {
   "cell_type": "code",
   "execution_count": 5,
   "metadata": {},
   "outputs": [
    {
     "name": "stdout",
     "output_type": "stream",
     "text": [
      "The brown brown fox\n"
     ]
    }
   ],
   "source": [
    "print('The {1} {1} {0}'.format('fox','brown','quick'))"
   ]
  },
  {
   "cell_type": "code",
   "execution_count": 6,
   "metadata": {},
   "outputs": [
    {
     "name": "stdout",
     "output_type": "stream",
     "text": [
      "The fox fox fox\n"
     ]
    }
   ],
   "source": [
    "print('The {0} {0} {0}'.format('fox','brown','quick'))"
   ]
  },
  {
   "cell_type": "code",
   "execution_count": 7,
   "metadata": {},
   "outputs": [
    {
     "name": "stdout",
     "output_type": "stream",
     "text": [
      "The quick brown fox\n"
     ]
    }
   ],
   "source": [
    "print('The {q} {b} {f}'.format(f='fox',b='brown',q='quick'))\n",
    "#KEYWORD IDENTIFICATION !"
   ]
  },
  {
   "cell_type": "code",
   "execution_count": 8,
   "metadata": {},
   "outputs": [
    {
     "name": "stdout",
     "output_type": "stream",
     "text": [
      "The brown brown fox\n"
     ]
    }
   ],
   "source": [
    "print('The {b} {b} {f}'.format(f='fox',b='brown',q='quick'))"
   ]
  },
  {
   "cell_type": "code",
   "execution_count": 10,
   "metadata": {},
   "outputs": [],
   "source": [
    "#\n",
    "#FLOAT FORMATTING syntax : {value:width.precision f}\n",
    "#"
   ]
  },
  {
   "cell_type": "code",
   "execution_count": 11,
   "metadata": {},
   "outputs": [],
   "source": [
    "result = 100/777"
   ]
  },
  {
   "cell_type": "code",
   "execution_count": 12,
   "metadata": {},
   "outputs": [
    {
     "data": {
      "text/plain": [
       "0.1287001287001287"
      ]
     },
     "execution_count": 12,
     "metadata": {},
     "output_type": "execute_result"
    }
   ],
   "source": [
    "result"
   ]
  },
  {
   "cell_type": "code",
   "execution_count": 13,
   "metadata": {},
   "outputs": [
    {
     "name": "stdout",
     "output_type": "stream",
     "text": [
      "The Result was 0.1287001287001287\n"
     ]
    }
   ],
   "source": [
    "print(\"The Result was {r}\".format(r=result))"
   ]
  },
  {
   "cell_type": "code",
   "execution_count": 17,
   "metadata": {},
   "outputs": [
    {
     "name": "stdout",
     "output_type": "stream",
     "text": [
      "The Result was 0.129\n"
     ]
    }
   ],
   "source": [
    "print(\"The Result was {r:1.3f}\".format(r=result))"
   ]
  },
  {
   "cell_type": "code",
   "execution_count": 18,
   "metadata": {},
   "outputs": [],
   "source": [
    "#\n",
    "#f-strings\n",
    "#"
   ]
  },
  {
   "cell_type": "code",
   "execution_count": 19,
   "metadata": {},
   "outputs": [],
   "source": [
    "name = \"Keshav\""
   ]
  },
  {
   "cell_type": "code",
   "execution_count": 20,
   "metadata": {},
   "outputs": [
    {
     "name": "stdout",
     "output_type": "stream",
     "text": [
      "Hello Everyone, My name is Keshav\n"
     ]
    }
   ],
   "source": [
    "print(\"Hello Everyone, My name is {}\".format(name))"
   ]
  },
  {
   "cell_type": "code",
   "execution_count": 21,
   "metadata": {},
   "outputs": [
    {
     "name": "stdout",
     "output_type": "stream",
     "text": [
      "Hello Everyone, My name is Keshav\n"
     ]
    }
   ],
   "source": [
    "print(f\"Hello Everyone, My name is {name}\")"
   ]
  },
  {
   "cell_type": "code",
   "execution_count": 85,
   "metadata": {},
   "outputs": [
    {
     "name": "stdout",
     "output_type": "stream",
     "text": [
      "3.14285714286\n",
      "----3.14----\n",
      "----3.14----\n"
     ]
    }
   ],
   "source": [
    "pie = 3.14285714286\n",
    "\n",
    "print(pie)\n",
    "print(f'{pie:-^12.3}')\n",
    "print(\"{0:-^12.3}\".format(pie))"
   ]
  },
  {
   "cell_type": "code",
   "execution_count": 84,
   "metadata": {},
   "outputs": [
    {
     "name": "stdout",
     "output_type": "stream",
     "text": [
      "Name as a String Variable is : Keshav\n",
      "Name as a String Expression is : 'Keshav'\n"
     ]
    }
   ],
   "source": [
    "print(f\"Name as a String Variable is : {name}\")\n",
    "print(f\"Name as a String Expression is : {name!r}\")"
   ]
  },
  {
   "cell_type": "code",
   "execution_count": 25,
   "metadata": {},
   "outputs": [
    {
     "name": "stdout",
     "output_type": "stream",
     "text": [
      "Name is : Keshav and he is 20 years old and was born on 21-12-1998\n"
     ]
    }
   ],
   "source": [
    "age = 20\n",
    "bday = \"21-12-1998\"\n",
    "print(f\"Name is : {name} and he is {age} years old and was born on {bday}\")"
   ]
  },
  {
   "cell_type": "code",
   "execution_count": 26,
   "metadata": {},
   "outputs": [],
   "source": [
    "#\n",
    "#FORMATTING WITH PLACEHOLDERS\n",
    "#"
   ]
  },
  {
   "cell_type": "code",
   "execution_count": 27,
   "metadata": {},
   "outputs": [
    {
     "name": "stdout",
     "output_type": "stream",
     "text": [
      "My Name is Keshav.\n"
     ]
    }
   ],
   "source": [
    "print(\"My Name is %s.\"%'Keshav')"
   ]
  },
  {
   "cell_type": "code",
   "execution_count": 28,
   "metadata": {},
   "outputs": [
    {
     "name": "stdout",
     "output_type": "stream",
     "text": [
      "My First name is : Keshav\n",
      "My Surname is : Tangri\n"
     ]
    }
   ],
   "source": [
    "print(\"My First name is : %s\\nMy Surname is : %s\"%('Keshav','Tangri'))"
   ]
  },
  {
   "cell_type": "code",
   "execution_count": 29,
   "metadata": {},
   "outputs": [],
   "source": [
    "fname = 'Keshav'\n",
    "lname = 'Tangri'"
   ]
  },
  {
   "cell_type": "code",
   "execution_count": 31,
   "metadata": {},
   "outputs": [
    {
     "name": "stdout",
     "output_type": "stream",
     "text": [
      "My First name is : Keshav\n",
      "My Surname is : Tangri\n"
     ]
    }
   ],
   "source": [
    "print(\"My First name is : %s\\nMy Surname is : %s\"%(fname,lname))"
   ]
  },
  {
   "cell_type": "markdown",
   "metadata": {},
   "source": [
    "### Format conversion methods.\n",
    "It should be noted that two methods <code>%s</code> and <code>%r</code> convert any python object to a string using two separate methods: `str()` and `repr()`. We will learn more about these functions later on in the course, but you should note that `%r` and `repr()` deliver the *string representation* of the object, including quotation marks and any escape characters."
   ]
  },
  {
   "cell_type": "code",
   "execution_count": 32,
   "metadata": {},
   "outputs": [
    {
     "name": "stdout",
     "output_type": "stream",
     "text": [
      "My Name is : Keshav Tangri\n"
     ]
    }
   ],
   "source": [
    "print(\"My Name is : %s\"%\"Keshav Tangri\")"
   ]
  },
  {
   "cell_type": "code",
   "execution_count": 33,
   "metadata": {},
   "outputs": [
    {
     "name": "stdout",
     "output_type": "stream",
     "text": [
      "My Name is : 'Keshav Tangri'\n"
     ]
    }
   ],
   "source": [
    "print(\"My Name is : %r\"%\"Keshav Tangri\")"
   ]
  },
  {
   "cell_type": "code",
   "execution_count": 34,
   "metadata": {},
   "outputs": [
    {
     "name": "stdout",
     "output_type": "stream",
     "text": [
      "Last night the Husband said 'I LOVE YOU DARLING' to his wife to make her feel special\n"
     ]
    }
   ],
   "source": [
    "print(\"Last night the Husband said %r to his wife to make her feel special\"%\"I LOVE YOU DARLING\")"
   ]
  },
  {
   "cell_type": "code",
   "execution_count": 36,
   "metadata": {},
   "outputs": [
    {
     "name": "stdout",
     "output_type": "stream",
     "text": [
      "Trying out with escape characters : This will be \n",
      "in a new line\n",
      "Trying out with escape characters : 'This will not be \\nin a new line'\n"
     ]
    }
   ],
   "source": [
    "print(\"Trying out with escape characters : %s\"%\"This will be \\nin a new line\")\n",
    "print(\"Trying out with escape characters : %r\"%\"This will not be \\nin a new line\")\n"
   ]
  },
  {
   "cell_type": "code",
   "execution_count": 37,
   "metadata": {},
   "outputs": [
    {
     "name": "stdout",
     "output_type": "stream",
     "text": [
      "I wrote 3.75 programs today.\n",
      "I wrote 3 programs today.\n"
     ]
    }
   ],
   "source": [
    "print('I wrote %s programs today.' %3.75)\n",
    "print('I wrote %d programs today.' %3.75)  \n",
    "# %d converts to integer withput rounding off !"
   ]
  },
  {
   "cell_type": "code",
   "execution_count": 38,
   "metadata": {},
   "outputs": [],
   "source": [
    "#\n",
    "#FLOATING POINT FORMATTING !\n",
    "#"
   ]
  },
  {
   "cell_type": "code",
   "execution_count": 45,
   "metadata": {},
   "outputs": [
    {
     "name": "stdout",
     "output_type": "stream",
     "text": [
      "XYZ got 94.440000 percent in his +2 Boards Examination\n"
     ]
    }
   ],
   "source": [
    "print(\"XYZ got %f percent in his +2 Boards Examination\"%(94.44))"
   ]
  },
  {
   "cell_type": "code",
   "execution_count": 46,
   "metadata": {},
   "outputs": [
    {
     "name": "stdout",
     "output_type": "stream",
     "text": [
      "XYZ got 94.44 percent in his +2 Boards Examination\n"
     ]
    }
   ],
   "source": [
    "print(\"XYZ got %5.2f percent in his +2 Boards Examination\"%(94.44))"
   ]
  },
  {
   "cell_type": "code",
   "execution_count": 47,
   "metadata": {},
   "outputs": [
    {
     "name": "stdout",
     "output_type": "stream",
     "text": [
      "XYZ got      94.44 percent in his +2 Boards Examination\n"
     ]
    }
   ],
   "source": [
    "print(\"XYZ got %10.2f percent in his +2 Boards Examination\"%(94.44))"
   ]
  },
  {
   "cell_type": "code",
   "execution_count": 48,
   "metadata": {},
   "outputs": [
    {
     "name": "stdout",
     "output_type": "stream",
     "text": [
      "First: hi!, Second:  3.14, Third: 'bye!'\n"
     ]
    }
   ],
   "source": [
    "print('First: %s, Second: %5.2f, Third: %r' %('hi!',3.1415,'bye!'))"
   ]
  },
  {
   "cell_type": "markdown",
   "metadata": {},
   "source": [
    "### ALIGNMENT,PADDING AND PRECISION WITH .format()"
   ]
  },
  {
   "cell_type": "code",
   "execution_count": 56,
   "metadata": {},
   "outputs": [
    {
     "name": "stdout",
     "output_type": "stream",
     "text": [
      "YEAR       | CGPA    \n",
      "2017-2018  | 9.27    \n",
      "2018-2019  | 9.55    \n"
     ]
    }
   ],
   "source": [
    "print('{0:10} | {1:8}'.format('YEAR','CGPA'))\n",
    "print('{0:10} | {1:8}'.format('2017-2018','9.27'))\n",
    "print('{0:10} | {1:8}'.format('2018-2019','9.55'))"
   ]
  },
  {
   "cell_type": "markdown",
   "metadata": {},
   "source": [
    "### < left ^ center > right"
   ]
  },
  {
   "cell_type": "code",
   "execution_count": 57,
   "metadata": {},
   "outputs": [
    {
     "name": "stdout",
     "output_type": "stream",
     "text": [
      "   YEAR    |    CGPA   \n",
      "2017-18    |       9.27\n",
      "2018-19    |       9.55\n"
     ]
    }
   ],
   "source": [
    "print(\"{0:^10} | {1:^10}\".format('YEAR',\"CGPA\"))\n",
    "print(\"{0:<10} | {1:>10}\".format('2017-18','9.27'))\n",
    "print(\"{0:<10} | {1:>10}\".format('2018-19','9.55'))"
   ]
  },
  {
   "cell_type": "markdown",
   "metadata": {},
   "source": [
    "### Padding Character"
   ]
  },
  {
   "cell_type": "code",
   "execution_count": 72,
   "metadata": {},
   "outputs": [
    {
     "name": "stdout",
     "output_type": "stream",
     "text": [
      "---Year--- | ---CGPA---\n",
      "2017-18... | ......9.27\n",
      "2018-19... | ......9.55\n"
     ]
    }
   ],
   "source": [
    "print(\"{0:-^10} | {1:-^10}\".format('Year','CGPA'))\n",
    "print(\"{0:.<10} | {1:.>10}\".format('2017-18','9.27'))\n",
    "print(\"{0:.<10} | {1:.>10}\".format('2018-19','9.55'))"
   ]
  },
  {
   "cell_type": "code",
   "execution_count": null,
   "metadata": {},
   "outputs": [],
   "source": []
  }
 ],
 "metadata": {
  "kernelspec": {
   "display_name": "Python 3",
   "language": "python",
   "name": "python3"
  },
  "language_info": {
   "codemirror_mode": {
    "name": "ipython",
    "version": 3
   },
   "file_extension": ".py",
   "mimetype": "text/x-python",
   "name": "python",
   "nbconvert_exporter": "python",
   "pygments_lexer": "ipython3",
   "version": "3.7.3"
  }
 },
 "nbformat": 4,
 "nbformat_minor": 2
}
