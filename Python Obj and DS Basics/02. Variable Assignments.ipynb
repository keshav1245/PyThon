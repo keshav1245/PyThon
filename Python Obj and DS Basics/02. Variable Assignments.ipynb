{
 "cells": [
  {
   "cell_type": "markdown",
   "metadata": {},
   "source": [
    "Python uses Dynamic Typing -> we can re-assign the variables to different Data Types.\n",
    "\n",
    "eg phones_in_house = 6\n",
    "\n",
    "phones_in_house = [\"Asus\",\"Xiomi\",\"Apple\",\"One Plus\"]\n",
    "\n",
    "No Error !"
   ]
  },
  {
   "cell_type": "code",
   "execution_count": 1,
   "metadata": {},
   "outputs": [],
   "source": [
    "#variable_name = object\n",
    "phones_in_house = 6\n",
    "#here integer object 6 is assigned to variable name : phones_in_house"
   ]
  },
  {
   "cell_type": "code",
   "execution_count": 2,
   "metadata": {},
   "outputs": [
    {
     "name": "stdout",
     "output_type": "stream",
     "text": [
      "6\n"
     ]
    },
    {
     "data": {
      "text/plain": [
       "int"
      ]
     },
     "execution_count": 2,
     "metadata": {},
     "output_type": "execute_result"
    }
   ],
   "source": [
    "print(phones_in_house)\n",
    "type(phones_in_house)#To Know the Type of the Variable !"
   ]
  },
  {
   "cell_type": "code",
   "execution_count": 3,
   "metadata": {},
   "outputs": [],
   "source": [
    "phones_in_house = [\"Asus\",\"Xiomi\",\"Apple\",\"One Plus\"]"
   ]
  },
  {
   "cell_type": "code",
   "execution_count": 4,
   "metadata": {},
   "outputs": [
    {
     "name": "stdout",
     "output_type": "stream",
     "text": [
      "['Asus', 'Xiomi', 'Apple', 'One Plus']\n"
     ]
    },
    {
     "data": {
      "text/plain": [
       "list"
      ]
     },
     "execution_count": 4,
     "metadata": {},
     "output_type": "execute_result"
    }
   ],
   "source": [
    "print(phones_in_house)\n",
    "type(phones_in_house)"
   ]
  },
  {
   "cell_type": "code",
   "execution_count": 5,
   "metadata": {},
   "outputs": [],
   "source": [
    "divisor = 2\n",
    "quotient = 4\n",
    "remainder = 0\n",
    "\n",
    "dividend = divisor * quotient + remainder"
   ]
  },
  {
   "cell_type": "code",
   "execution_count": 6,
   "metadata": {},
   "outputs": [
    {
     "data": {
      "text/plain": [
       "8"
      ]
     },
     "execution_count": 6,
     "metadata": {},
     "output_type": "execute_result"
    }
   ],
   "source": [
    "dividend"
   ]
  },
  {
   "cell_type": "code",
   "execution_count": 7,
   "metadata": {},
   "outputs": [
    {
     "name": "stdout",
     "output_type": "stream",
     "text": [
      " INITIALLY : 100\n",
      " += 200\n",
      " *= 40000\n",
      " /= 1.0\n",
      " -= 0.0\n"
     ]
    }
   ],
   "source": [
    "some_var = 100\n",
    "print(\" INITIALLY : \"+str(some_var))\n",
    "some_var += some_var # some_var = some_var + some_var\n",
    "print(\" += \"+str(some_var))\n",
    "some_var *= some_var # some_var = some_var * some_var\n",
    "print(\" *= \"+str(some_var))\n",
    "some_var /= some_var # some_var = some_var / some_var\n",
    "print(\" /= \"+str(some_var))\n",
    "some_var -= some_var # some_var = some_var - some_var\n",
    "print(\" -= \"+str(some_var))"
   ]
  },
  {
   "cell_type": "code",
   "execution_count": null,
   "metadata": {},
   "outputs": [],
   "source": []
  },
  {
   "cell_type": "code",
   "execution_count": null,
   "metadata": {},
   "outputs": [],
   "source": []
  }
 ],
 "metadata": {
  "kernelspec": {
   "display_name": "Python 3",
   "language": "python",
   "name": "python3"
  },
  "language_info": {
   "codemirror_mode": {
    "name": "ipython",
    "version": 3
   },
   "file_extension": ".py",
   "mimetype": "text/x-python",
   "name": "python",
   "nbconvert_exporter": "python",
   "pygments_lexer": "ipython3",
   "version": "3.7.3"
  }
 },
 "nbformat": 4,
 "nbformat_minor": 2
}
