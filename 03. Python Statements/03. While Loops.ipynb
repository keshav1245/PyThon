{
 "cells": [
  {
   "cell_type": "markdown",
   "metadata": {},
   "source": [
    "# SYNTAX\n",
    "    \n",
    "    while some_boolean_condition:\n",
    "        #do Something\n",
    "        \n",
    "#### You can combine it with an else if you want\n",
    "\n",
    "    while some_boolean_condition:\n",
    "        #do Something\n",
    "    else:\n",
    "        #do Something Else"
   ]
  },
  {
   "cell_type": "code",
   "execution_count": 3,
   "metadata": {},
   "outputs": [
    {
     "name": "stdout",
     "output_type": "stream",
     "text": [
      "0\n",
      "1\n",
      "2\n",
      "3\n",
      "4\n",
      "x is not less than 5\n"
     ]
    }
   ],
   "source": [
    "x = 0\n",
    "\n",
    "while x < 5:\n",
    "    print(x)\n",
    "    x += 1\n",
    "else:\n",
    "    print(\"x is not less than 5\")"
   ]
  },
  {
   "cell_type": "markdown",
   "metadata": {},
   "source": [
    "### break, continue, pass\n",
    "\n",
    "    1.) break - gets out of the current loop\n",
    "    2.) continue - Goes to the top of current loop\n",
    "    3.) pass - Do nothing"
   ]
  },
  {
   "cell_type": "code",
   "execution_count": 7,
   "metadata": {},
   "outputs": [],
   "source": [
    "x = [1,2,3]\n",
    "\n",
    "for item in x:\n",
    "    pass\n",
    "\n",
    "#This is used when you don't know what to fill in the loop however\n",
    "#you know that you will fill this loop for sure. So without the pass\n",
    "#keyword Python gives EOF error because due to identation n whitespace\n",
    "#it is searching for some code, so pass helps us in this case by doing\n",
    "#nothing"
   ]
  },
  {
   "cell_type": "code",
   "execution_count": 10,
   "metadata": {},
   "outputs": [
    {
     "name": "stdout",
     "output_type": "stream",
     "text": [
      "K\n",
      "s\n",
      "h\n",
      "v\n",
      " \n",
      "T\n",
      "n\n",
      "g\n",
      "r\n"
     ]
    }
   ],
   "source": [
    "name = 'Keshav Tangri'\n",
    "\n",
    "#Printing name without vowels\n",
    "for i in name:\n",
    "    if i == 'a' or i == 'e' or i =='i' or i == 'o' or i == 'u':\n",
    "        continue\n",
    "    else:\n",
    "        print(i)"
   ]
  },
  {
   "cell_type": "code",
   "execution_count": 12,
   "metadata": {},
   "outputs": [
    {
     "name": "stdout",
     "output_type": "stream",
     "text": [
      "K\n"
     ]
    }
   ],
   "source": [
    "#Breaking if any vowel exist in a name\n",
    "for i in name:\n",
    "    if i == 'a' or i == 'e' or i =='i' or i == 'o' or i == 'u':\n",
    "        break\n",
    "    else:\n",
    "        print(i)"
   ]
  },
  {
   "cell_type": "code",
   "execution_count": null,
   "metadata": {},
   "outputs": [],
   "source": []
  }
 ],
 "metadata": {
  "kernelspec": {
   "display_name": "Python 3",
   "language": "python",
   "name": "python3"
  },
  "language_info": {
   "codemirror_mode": {
    "name": "ipython",
    "version": 3
   },
   "file_extension": ".py",
   "mimetype": "text/x-python",
   "name": "python",
   "nbconvert_exporter": "python",
   "pygments_lexer": "ipython3",
   "version": "3.7.3"
  }
 },
 "nbformat": 4,
 "nbformat_minor": 2
}
