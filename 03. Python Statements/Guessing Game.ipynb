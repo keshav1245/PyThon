{
 "cells": [
  {
   "cell_type": "code",
   "execution_count": 4,
   "metadata": {},
   "outputs": [],
   "source": [
    "import random\n",
    "\n",
    "num =  random.randint(1,100)\n",
    "noOfGuesses = 0\n",
    "guess = True\n",
    "prevGuess = [False]\n",
    "\n",
    "while guess:\n",
    "    userNum = int(input(\"Enter your Guess bw 1 to 100 : \"))\n",
    "    noOfGuesses += 1\n",
    "    if userNum < 1 or userNum > 100:\n",
    "        print (\"OUT OF BOUNDS !\")\n",
    "        continue\n",
    "    \n",
    "    if num == userNum:\n",
    "        print(f\"Correct Guess, It took you {noOfGuesses} to get it correct !\")\n",
    "    \n",
    "    prevGuess.append(userNum)\n",
    "    \n",
    "    if abs(num - userNum) <= 10:\n",
    "        print(\"WARM\")\n",
    "    \n",
    "    if abs"
   ]
  },
  {
   "cell_type": "code",
   "execution_count": null,
   "metadata": {},
   "outputs": [],
   "source": []
  }
 ],
 "metadata": {
  "kernelspec": {
   "display_name": "Python 3",
   "language": "python",
   "name": "python3"
  },
  "language_info": {
   "codemirror_mode": {
    "name": "ipython",
    "version": 3
   },
   "file_extension": ".py",
   "mimetype": "text/x-python",
   "name": "python",
   "nbconvert_exporter": "python",
   "pygments_lexer": "ipython3",
   "version": "3.7.3"
  }
 },
 "nbformat": 4,
 "nbformat_minor": 2
}
