{
 "cells": [
  {
   "cell_type": "code",
   "execution_count": 1,
   "metadata": {},
   "outputs": [
    {
     "name": "stdout",
     "output_type": "stream",
     "text": [
      "True True True\n"
     ]
    }
   ],
   "source": [
    "if True:\n",
    "    print('True True True')"
   ]
  },
  {
   "cell_type": "code",
   "execution_count": 2,
   "metadata": {},
   "outputs": [
    {
     "name": "stdout",
     "output_type": "stream",
     "text": [
      "False False False\n"
     ]
    }
   ],
   "source": [
    "if False:\n",
    "    print('True True True')\n",
    "else:\n",
    "    print('False False False')\n",
    "    "
   ]
  },
  {
   "cell_type": "code",
   "execution_count": 3,
   "metadata": {},
   "outputs": [
    {
     "name": "stdout",
     "output_type": "stream",
     "text": [
      "Student passed !\n"
     ]
    }
   ],
   "source": [
    "tot_marks = 66\n",
    "if tot_marks >= 40:\n",
    "    print(\"Student passed !\")\n",
    "else:\n",
    "    print(\"Student Failed !\")"
   ]
  },
  {
   "cell_type": "code",
   "execution_count": 9,
   "metadata": {},
   "outputs": [
    {
     "name": "stdout",
     "output_type": "stream",
     "text": [
      "Student Passed with Flying Colors\n"
     ]
    }
   ],
   "source": [
    "tot_marks = 85\n",
    "if tot_marks > 80:\n",
    "    print(\"Student Passed with Flying Colors\")\n",
    "elif tot_marks > 60 and tot_marks <=80:\n",
    "    print(\"Student Passed with Good Marks !\")\n",
    "elif tot_marks >= 40 and tot_marks <= 60:\n",
    "    print(\"Student Passed !\")\n",
    "else:\n",
    "    print(\"Student Failed !\")"
   ]
  },
  {
   "cell_type": "markdown",
   "metadata": {},
   "source": [
    "It is important to keep a good understanding of how indentation works in Python to maintain the structure and order of your code. We will touch on this topic again when we start building out functions!"
   ]
  },
  {
   "cell_type": "code",
   "execution_count": null,
   "metadata": {},
   "outputs": [],
   "source": []
  }
 ],
 "metadata": {
  "kernelspec": {
   "display_name": "Python 3",
   "language": "python",
   "name": "python3"
  },
  "language_info": {
   "codemirror_mode": {
    "name": "ipython",
    "version": 3
   },
   "file_extension": ".py",
   "mimetype": "text/x-python",
   "name": "python",
   "nbconvert_exporter": "python",
   "pygments_lexer": "ipython3",
   "version": "3.7.3"
  }
 },
 "nbformat": 4,
 "nbformat_minor": 2
}
